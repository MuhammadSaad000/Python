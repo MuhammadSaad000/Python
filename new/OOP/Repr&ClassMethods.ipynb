{
 "cells": [
  {
   "cell_type": "markdown",
   "metadata": {},
   "source": [
    "# Object Oriented Programming In Python\n"
   ]
  },
  {
   "cell_type": "code",
   "execution_count": 63,
   "metadata": {},
   "outputs": [],
   "source": [
    "class Items:\n",
    "    noOfCompanies = []  # This is a class variable will only be accessed by class name \n",
    "    discRate  = 0.8 #For all class attributes \n",
    "    def __init__ (self,manufacturer:str,quantity:int,price:float):  #using dtypes after colon to ensure if same type of variables are passed \n",
    "    \n",
    "    #Imposing a restriction on variables of a class using assert\n",
    "        assert price>0 ,  f\"Price {price} is not valid\"\n",
    "        assert quantity>=0\n",
    "       \n",
    "    # initialize the variables --> Basic constructor\n",
    "        self.manufacturer = manufacturer;\n",
    "        self.quantity = quantity;\n",
    "        self.price = price;\n",
    "\n",
    "    #Actions to Execute    \n",
    "        Items.noOfCompanies.append(self);\n",
    "        for i in Items.noOfCompanies:\n",
    "            if i not in Items.noOfCompanies:\n",
    "                Items.noOfCompanies.append(self)\n",
    "         \n",
    "    #Executing a method for a class     \n",
    "    def calBill(self):\n",
    "        bill = self.quantity * self.price;\n",
    "        return bill;\n",
    "    \n",
    "    #Applying discount on items \n",
    "    def billAfterDisc(self):\n",
    "        self.total = self.calBill() * self.discRate\n",
    "        return self.total\n",
    "    \n",
    "    #__repr__ is a magic method used to represent a string \n",
    "    def __repr__ (self):\n",
    "        return f\"{self.manufacturer}\"\n"
   ]
  },
  {
   "cell_type": "code",
   "execution_count": 64,
   "metadata": {},
   "outputs": [],
   "source": [
    "p1 = Items(\"Apple\", 4, 35000);\n",
    "p2 = Items(\"Samsung\", 1, 25000);\n",
    "p3 = Items(\"Huawei\", 2, 15000);\n",
    "p4 = Items(\"Oppo\", 1, 10000);\n",
    "p5 = Items(\"Oppo\", 2, 10000);\n",
    "\n",
    "#Suppose we have different discount rate for items p4 and p5 \n",
    "p4.discRate = 0.7\n",
    "p5.discRate = 0.5\n",
    "\n"
   ]
  },
  {
   "cell_type": "code",
   "execution_count": 65,
   "metadata": {},
   "outputs": [
    {
     "name": "stdout",
     "output_type": "stream",
     "text": [
      "Bill W/o Discount 140000 Bill After Discount 112000.0\n",
      "Bill W/o Discount 25000 Bill After Discount 20000.0\n",
      "Bill W/o Discount 30000 Bill After Discount 24000.0\n",
      "Bill W/o Discount 10000 Bill After Discount 7000.0\n",
      "Bill W/o Discount 20000 Bill After Discount 10000.0\n"
     ]
    }
   ],
   "source": [
    "\n",
    "print(\"Bill W/o Discount\", p1.calBill()  , \"Bill After Discount\", p1.billAfterDisc())\n",
    "print(\"Bill W/o Discount\", p2.calBill()  , \"Bill After Discount\", p2.billAfterDisc())\n",
    "print(\"Bill W/o Discount\", p3.calBill()  , \"Bill After Discount\", p3.billAfterDisc())\n",
    "print(\"Bill W/o Discount\", p4.calBill()  , \"Bill After Discount\", p4.billAfterDisc())\n",
    "print(\"Bill W/o Discount\", p5.calBill()  , \"Bill After Discount\", p5.billAfterDisc())\n"
   ]
  },
  {
   "cell_type": "code",
   "execution_count": 66,
   "metadata": {},
   "outputs": [
    {
     "name": "stdout",
     "output_type": "stream",
     "text": [
      "[Apple, Samsung, Huawei, Oppo, Oppo]\n"
     ]
    }
   ],
   "source": [
    "# say we have a dynamic shop where we want to add new items day-by-day\n",
    "#we made a store in first line after declaring a class\n",
    "\n",
    "print(Items.noOfCompanies)\n",
    "#Above command prints some inconvenient explanation of objects\n",
    "\n"
   ]
  },
  {
   "cell_type": "code",
   "execution_count": null,
   "metadata": {},
   "outputs": [],
   "source": []
  }
 ],
 "metadata": {
  "kernelspec": {
   "display_name": "Python 3 (ipykernel)",
   "language": "python",
   "name": "python3"
  },
  "language_info": {
   "codemirror_mode": {
    "name": "ipython",
    "version": 3
   },
   "file_extension": ".py",
   "mimetype": "text/x-python",
   "name": "python",
   "nbconvert_exporter": "python",
   "pygments_lexer": "ipython3",
   "version": "3.9.7"
  }
 },
 "nbformat": 4,
 "nbformat_minor": 4
}
